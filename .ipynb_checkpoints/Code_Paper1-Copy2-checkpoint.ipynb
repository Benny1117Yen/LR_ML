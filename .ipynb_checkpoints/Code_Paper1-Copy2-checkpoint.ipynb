{
 "cells": [
  {
   "cell_type": "code",
   "execution_count": 1,
   "metadata": {},
   "outputs": [],
   "source": [
    "from sklearn.linear_model import LinearRegression\n",
    "from sklearn.model_selection import train_test_split\n",
    "from sklearn.metrics import mean_squared_error, r2_score\n",
    "import pandas as pd\n",
    "import numpy as np\n",
    "import matplotlib.pyplot as plt\n",
    "import os\n",
    "import seaborn as sns\n",
    "from sklearn import preprocessing as pre"
   ]
  },
  {
   "cell_type": "code",
   "execution_count": 2,
   "metadata": {},
   "outputs": [
    {
     "data": {
      "text/plain": [
       "'/root/LR_ML'"
      ]
     },
     "execution_count": 2,
     "metadata": {},
     "output_type": "execute_result"
    }
   ],
   "source": [
    "# TIP = pd.read_csv(os.path.join(\"/root/LR_ML\", \"0507.xlsx\"))\n",
    "# TIP = pd.read_excel('0507.xlsx', index_col=None)\n",
    "# TIP = pd.read_csv(os.path.join('/root/LR_ML', 'Data_Sorted.csv'), error_bad_lines=False)\n",
    "os.getcwd()"
   ]
  },
  {
   "cell_type": "code",
   "execution_count": 3,
   "metadata": {},
   "outputs": [],
   "source": [
    "datafile = u\"/root/LR_ML/modData_Sorted4.xlsx\"\n",
    "TIP0 = pd.read_excel(datafile)"
   ]
  },
  {
   "cell_type": "code",
   "execution_count": 4,
   "metadata": {},
   "outputs": [],
   "source": [
    "TIP = pd.DataFrame(TIP0)"
   ]
  },
  {
   "cell_type": "code",
   "execution_count": 5,
   "metadata": {},
   "outputs": [
    {
     "data": {
      "text/html": [
       "<div>\n",
       "<style scoped>\n",
       "    .dataframe tbody tr th:only-of-type {\n",
       "        vertical-align: middle;\n",
       "    }\n",
       "\n",
       "    .dataframe tbody tr th {\n",
       "        vertical-align: top;\n",
       "    }\n",
       "\n",
       "    .dataframe thead th {\n",
       "        text-align: right;\n",
       "    }\n",
       "</style>\n",
       "<table border=\"1\" class=\"dataframe\">\n",
       "  <thead>\n",
       "    <tr style=\"text-align: right;\">\n",
       "      <th></th>\n",
       "      <th>CIR</th>\n",
       "      <th>SBP</th>\n",
       "      <th>DBP</th>\n",
       "      <th>BPM</th>\n",
       "      <th>TIP</th>\n",
       "    </tr>\n",
       "  </thead>\n",
       "  <tbody>\n",
       "    <tr>\n",
       "      <th>0</th>\n",
       "      <td>26.0</td>\n",
       "      <td>128</td>\n",
       "      <td>85</td>\n",
       "      <td>80</td>\n",
       "      <td>120</td>\n",
       "    </tr>\n",
       "    <tr>\n",
       "      <th>1</th>\n",
       "      <td>26.0</td>\n",
       "      <td>114</td>\n",
       "      <td>62</td>\n",
       "      <td>88</td>\n",
       "      <td>130</td>\n",
       "    </tr>\n",
       "    <tr>\n",
       "      <th>2</th>\n",
       "      <td>25.5</td>\n",
       "      <td>100</td>\n",
       "      <td>57</td>\n",
       "      <td>82</td>\n",
       "      <td>120</td>\n",
       "    </tr>\n",
       "    <tr>\n",
       "      <th>3</th>\n",
       "      <td>25.5</td>\n",
       "      <td>95</td>\n",
       "      <td>53</td>\n",
       "      <td>60</td>\n",
       "      <td>115</td>\n",
       "    </tr>\n",
       "    <tr>\n",
       "      <th>4</th>\n",
       "      <td>25.5</td>\n",
       "      <td>88</td>\n",
       "      <td>49</td>\n",
       "      <td>71</td>\n",
       "      <td>100</td>\n",
       "    </tr>\n",
       "  </tbody>\n",
       "</table>\n",
       "</div>"
      ],
      "text/plain": [
       "    CIR  SBP  DBP  BPM  TIP\n",
       "0  26.0  128   85   80  120\n",
       "1  26.0  114   62   88  130\n",
       "2  25.5  100   57   82  120\n",
       "3  25.5   95   53   60  115\n",
       "4  25.5   88   49   71  100"
      ]
     },
     "execution_count": 5,
     "metadata": {},
     "output_type": "execute_result"
    }
   ],
   "source": [
    "TIP.head()"
   ]
  },
  {
   "cell_type": "code",
   "execution_count": 6,
   "metadata": {},
   "outputs": [
    {
     "data": {
      "image/png": "[encoded data removed]",
      "text/plain": [
       "<Figure size 432x288 with 1 Axes>"
      ]
     },
     "metadata": {
      "needs_background": "light"
     },
     "output_type": "display_data"
    }
   ],
   "source": [
    "modTIP = TIP\n",
    "#繪製散點圖,examDf.jt爲X軸，examDf.hk爲Y軸\n",
    "plt.scatter(modTIP.SBP,modTIP.TIP,color = 'darkgreen',label = \"Exam Data\")\n",
    "#添加圖的標籤（x軸，y軸）\n",
    "plt.xlabel(\"The SBP(mmHg)\")#設置X軸標籤\n",
    "plt.ylabel(\"The TIP(mmHg)\")#設置Y軸標籤\n",
    "plt.show()#顯示圖像"
   ]
  },
  {
   "cell_type": "code",
   "execution_count": 7,
   "metadata": {},
   "outputs": [
    {
     "name": "stdout",
     "output_type": "stream",
     "text": [
      "             CIR         SBP         DBP        BPM         TIP\n",
      "count  42.000000   42.000000   42.000000  42.000000   42.000000\n",
      "mean   24.033333  115.738095   71.500000  80.928571  124.880952\n",
      "std     1.769066   13.752267   13.667212   9.007836   10.270019\n",
      "min    20.500000   88.000000   49.000000  60.000000  100.000000\n",
      "25%    22.250000  106.250000   63.250000  74.000000  120.000000\n",
      "50%    24.750000  114.000000   68.000000  82.000000  120.000000\n",
      "75%    26.000000  127.500000   81.750000  87.750000  130.000000\n",
      "max    26.000000  145.000000  117.000000  98.000000  150.000000\n",
      "          CIR       SBP       DBP       BPM       TIP\n",
      "CIR  1.000000  0.396468  0.361241  0.096885  0.262674\n",
      "SBP  0.396468  1.000000  0.677704  0.281987  0.769114\n",
      "DBP  0.361241  0.677704  1.000000  0.168892  0.619042\n",
      "BPM  0.096885  0.281987  0.168892  1.000000  0.383514\n",
      "TIP  0.262674  0.769114  0.619042  0.383514  1.000000\n"
     ]
    },
    {
     "data": {
      "text/plain": [
       "<matplotlib.axes._subplots.AxesSubplot at 0x7f18566bfad0>"
      ]
     },
     "execution_count": 7,
     "metadata": {},
     "output_type": "execute_result"
    },
    {
     "data": {
      "image/png": "[encoded data removed]",
      "text/plain": [
       "<Figure size 432x288 with 2 Axes>"
      ]
     },
     "metadata": {
      "needs_background": "light"
     },
     "output_type": "display_data"
    }
   ],
   "source": [
    "print(modTIP.describe())\n",
    "rDf = modTIP.corr()#查看數據間的相關係數\n",
    "print(rDf)\n",
    "sns.heatmap(modTIP.corr(),annot=True, cmap=\"YlGnBu\")"
   ]
  },
  {
   "cell_type": "code",
   "execution_count": 8,
   "metadata": {},
   "outputs": [
    {
     "name": "stdout",
     "output_type": "stream",
     "text": [
      "自變量---源數據: (42,) ；  訓練集: (33,) ；  測試集: (9,)\n",
      "因變量---源數據: (42,) ；  訓練集: (33,) ；  測試集: (9,)\n"
     ]
    },
    {
     "data": {
      "image/png": "[encoded data removed]",
      "text/plain": [
       "<Figure size 432x288 with 1 Axes>"
      ]
     },
     "metadata": {
      "needs_background": "light"
     },
     "output_type": "display_data"
    }
   ],
   "source": [
    "#拆分訓練集和測試集（train_test_split是存在與sklearn中的函數）\n",
    "X_train,X_test,Y_train,Y_test = train_test_split(modTIP.SBP,modTIP.TIP,train_size=0.8,random_state=1)\n",
    "#train爲訓練數據,test爲測試數據,examDf爲源數據,train_size 規定了訓練數據的佔比\n",
    "print(\"自變量---源數據:\",modTIP.SBP.shape, \"；  訓練集:\",X_train.shape, \"；  測試集:\",X_test.shape)\n",
    "print(\"因變量---源數據:\",modTIP.TIP.shape, \"；  訓練集:\",Y_train.shape, \"；  測試集:\",Y_test.shape)\n",
    "#散點圖\n",
    "plt.scatter(X_train, Y_train, color=\"darkgreen\", label=\"train data\")#訓練集爲深綠色點\n",
    "plt.scatter(X_test, Y_test, color=\"red\", label=\"test data\")#測試集爲紅色點\n",
    "#添加標籤\n",
    "plt.legend(loc=2)#圖標位於左上角，即第2象限，類似的，1爲右上角，3爲左下角，4爲右下角\n",
    "plt.xlabel(\"The SBP\")#添加 X 軸名稱\n",
    "plt.ylabel(\"The TIP\")#添加 Y 軸名稱\n",
    "plt.show()#顯示散點圖"
   ]
  },
  {
   "cell_type": "code",
   "execution_count": 9,
   "metadata": {},
   "outputs": [
    {
     "data": {
      "text/plain": [
       "<matplotlib.collections.PathCollection at 0x7f18562f02d0>"
      ]
     },
     "execution_count": 9,
     "metadata": {},
     "output_type": "execute_result"
    },
    {
     "data": {
      "image/png": "[encoded data removed]",
      "text/plain": [
       "<Figure size 432x288 with 1 Axes>"
      ]
     },
     "metadata": {
      "needs_background": "light"
     },
     "output_type": "display_data"
    }
   ],
   "source": [
    "plt.scatter(modTIP.SBP, modTIP.TIP, color=\"darkgreen\", label=\"分布\")"
   ]
  },
  {
   "cell_type": "code",
   "execution_count": 10,
   "metadata": {},
   "outputs": [],
   "source": [
    "# X_1 = np.array([1 for i in range(28)])\n",
    "# x_train = np.array(X_train)\n",
    "# x = np.zeros((28,2))\n",
    "# x[:,0] = X_1\n",
    "# x[:,1] = x_train\n",
    "# #線性迴歸訓練\n",
    "# model = LinearRegression()\n",
    "# model.fit(x,Y_train)#調用線性迴歸包\n",
    "# a  = model.intercept_#截距\n",
    "# b = model.coef_#迴歸係數\n",
    "# #訓練數據的預測值\n",
    "# y_train_pred = model.predict(x)\n",
    "# #繪製最佳擬合線：標籤用的是訓練數據的預測值y_train_pred\n",
    "# plt.plot(X_train, y_train_pred, color='blue', linewidth=2, label=\"best line\")\n",
    "# #測試數據散點圖\n",
    "# plt.scatter(X_train, Y_train, color='darkgreen', label=\"train data\")\n",
    "# plt.scatter(X_test, Y_test, color='red', label=\"test data\")\n",
    "# #添加圖標標籤\n",
    "# plt.legend(loc=2)#圖標位於左上角，即第2象限，類似的，1爲右上角，3爲左下角，4爲右下角\n",
    "# plt.xlabel(\"The SBP\")#添加 X 軸名稱\n",
    "# plt.ylabel(\"The TIP\")#添加 Y 軸名稱\n",
    "# plt.show()#顯示圖像\n",
    "# print(\"擬合參數:截距\",a,\",迴歸係數：\",b)\n",
    "# print(\"最佳擬合線: Y = \",round(a,2),\"+\",round(b[1],2),\"* X\")\n",
    "# #顯示線性方程，並限制參數的小數位爲兩位"
   ]
  },
  {
   "cell_type": "code",
   "execution_count": 11,
   "metadata": {},
   "outputs": [
    {
     "ename": "ValueError",
     "evalue": "cannot reshape array of size 33 into shape (37,1)",
     "output_type": "error",
     "traceback": [
      "\u001b[0;31m---------------------------------------------------------------------------\u001b[0m",
      "\u001b[0;31mValueError\u001b[0m                                Traceback (most recent call last)",
      "\u001b[0;32m<ipython-input-11-6fd3db58beae>\u001b[0m in \u001b[0;36m<module>\u001b[0;34m\u001b[0m\n\u001b[1;32m      1\u001b[0m \u001b[0mq\u001b[0m \u001b[0;34m=\u001b[0m \u001b[0mnp\u001b[0m\u001b[0;34m.\u001b[0m\u001b[0marray\u001b[0m\u001b[0;34m(\u001b[0m\u001b[0mX_train\u001b[0m\u001b[0;34m)\u001b[0m\u001b[0;31m#q原先shape是(28,0)\u001b[0m\u001b[0;34m\u001b[0m\u001b[0;34m\u001b[0m\u001b[0m\n\u001b[1;32m      2\u001b[0m \u001b[0mnp\u001b[0m\u001b[0;34m.\u001b[0m\u001b[0mshape\u001b[0m\u001b[0;34m(\u001b[0m\u001b[0mq\u001b[0m\u001b[0;34m)\u001b[0m\u001b[0;34m\u001b[0m\u001b[0;34m\u001b[0m\u001b[0m\n\u001b[0;32m----> 3\u001b[0;31m \u001b[0mq\u001b[0m \u001b[0;34m=\u001b[0m \u001b[0mnp\u001b[0m\u001b[0;34m.\u001b[0m\u001b[0mreshape\u001b[0m\u001b[0;34m(\u001b[0m\u001b[0mq\u001b[0m\u001b[0;34m,\u001b[0m \u001b[0;34m(\u001b[0m\u001b[0;36m37\u001b[0m\u001b[0;34m,\u001b[0m\u001b[0;36m1\u001b[0m\u001b[0;34m)\u001b[0m\u001b[0;34m)\u001b[0m\u001b[0;31m#reshape換成(28,1)\u001b[0m\u001b[0;34m\u001b[0m\u001b[0;34m\u001b[0m\u001b[0m\n\u001b[0m",
      "\u001b[0;32m<__array_function__ internals>\u001b[0m in \u001b[0;36mreshape\u001b[0;34m(*args, **kwargs)\u001b[0m\n",
      "\u001b[0;32m~/anaconda3/envs/env01/lib/python3.7/site-packages/numpy/core/fromnumeric.py\u001b[0m in \u001b[0;36mreshape\u001b[0;34m(a, newshape, order)\u001b[0m\n\u001b[1;32m    299\u001b[0m            [5, 6]])\n\u001b[1;32m    300\u001b[0m     \"\"\"\n\u001b[0;32m--> 301\u001b[0;31m     \u001b[0;32mreturn\u001b[0m \u001b[0m_wrapfunc\u001b[0m\u001b[0;34m(\u001b[0m\u001b[0ma\u001b[0m\u001b[0;34m,\u001b[0m \u001b[0;34m'reshape'\u001b[0m\u001b[0;34m,\u001b[0m \u001b[0mnewshape\u001b[0m\u001b[0;34m,\u001b[0m \u001b[0morder\u001b[0m\u001b[0;34m=\u001b[0m\u001b[0morder\u001b[0m\u001b[0;34m)\u001b[0m\u001b[0;34m\u001b[0m\u001b[0;34m\u001b[0m\u001b[0m\n\u001b[0m\u001b[1;32m    302\u001b[0m \u001b[0;34m\u001b[0m\u001b[0m\n\u001b[1;32m    303\u001b[0m \u001b[0;34m\u001b[0m\u001b[0m\n",
      "\u001b[0;32m~/anaconda3/envs/env01/lib/python3.7/site-packages/numpy/core/fromnumeric.py\u001b[0m in \u001b[0;36m_wrapfunc\u001b[0;34m(obj, method, *args, **kwds)\u001b[0m\n\u001b[1;32m     59\u001b[0m \u001b[0;34m\u001b[0m\u001b[0m\n\u001b[1;32m     60\u001b[0m     \u001b[0;32mtry\u001b[0m\u001b[0;34m:\u001b[0m\u001b[0;34m\u001b[0m\u001b[0;34m\u001b[0m\u001b[0m\n\u001b[0;32m---> 61\u001b[0;31m         \u001b[0;32mreturn\u001b[0m \u001b[0mbound\u001b[0m\u001b[0;34m(\u001b[0m\u001b[0;34m*\u001b[0m\u001b[0margs\u001b[0m\u001b[0;34m,\u001b[0m \u001b[0;34m**\u001b[0m\u001b[0mkwds\u001b[0m\u001b[0;34m)\u001b[0m\u001b[0;34m\u001b[0m\u001b[0;34m\u001b[0m\u001b[0m\n\u001b[0m\u001b[1;32m     62\u001b[0m     \u001b[0;32mexcept\u001b[0m \u001b[0mTypeError\u001b[0m\u001b[0;34m:\u001b[0m\u001b[0;34m\u001b[0m\u001b[0;34m\u001b[0m\u001b[0m\n\u001b[1;32m     63\u001b[0m         \u001b[0;31m# A TypeError occurs if the object does have such a method in its\u001b[0m\u001b[0;34m\u001b[0m\u001b[0;34m\u001b[0m\u001b[0;34m\u001b[0m\u001b[0m\n",
      "\u001b[0;31mValueError\u001b[0m: cannot reshape array of size 33 into shape (37,1)"
     ]
    }
   ],
   "source": [
    "q = np.array(X_train)#q原先shape是(28,0)\n",
    "np.shape(q)\n",
    "q = np.reshape(q, (37,1))#reshape換成(28,1)"
   ]
  },
  {
   "cell_type": "code",
   "execution_count": null,
   "metadata": {},
   "outputs": [],
   "source": [
    "model = LinearRegression()\n",
    "model.fit(q,Y_train)#調用線性迴歸包\n",
    "# model.fit(X_train,Y_train)\n",
    "a  = model.intercept_#截距\n",
    "b = model.coef_#迴歸係數\n",
    "#訓練數據的預測值\n",
    "y_train_pred = model.predict(q)\n",
    "#繪製最佳擬合線：標籤用的是訓練數據的預測值y_train_pred\n",
    "plt.plot(X_train, y_train_pred, color='blue', linewidth=2, label=\"best line\")\n",
    "#測試數據散點圖\n",
    "plt.scatter(X_train, Y_train, color='darkgreen', label=\"train data\")\n",
    "plt.scatter(X_test, Y_test, color='red', label=\"test data\")\n",
    "#添加圖標標籤\n",
    "plt.legend(loc=2)#圖標位於左上角，即第2象限，類似的，1爲右上角，3爲左下角，4爲右下角\n",
    "plt.xlabel(\"The SBP\")#添加 X 軸名稱\n",
    "plt.ylabel(\"The TIP\")#添加 Y 軸名稱\n",
    "plt.show()#顯示圖像\n",
    "print(\"擬合參數:截距\",a,\",迴歸係數：\",b)\n",
    "print(\"最佳擬合線: Y = \",round(a,2),\"+\",round(b[0],2),\"* X\")\n",
    "#顯示線性方程，並限制參數的小數位爲兩位"
   ]
  }
 ],
 "metadata": {
  "kernelspec": {
   "display_name": "Python 3",
   "language": "python",
   "name": "python3"
  },
  "language_info": {
   "codemirror_mode": {
    "name": "ipython",
    "version": 3
   },
   "file_extension": ".py",
   "mimetype": "text/x-python",
   "name": "python",
   "nbconvert_exporter": "python",
   "pygments_lexer": "ipython3",
   "version": "3.7.7"
  }
 },
 "nbformat": 4,
 "nbformat_minor": 4
}
