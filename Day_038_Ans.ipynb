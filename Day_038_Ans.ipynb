{
 "cells": [
  {
   "cell_type": "markdown",
   "metadata": {},
   "source": [
    "## 練習時間\n",
    "試著使用 sklearn datasets 的其他資料集 (wine, boston, ...)，來訓練自己的線性迴歸模型。"
   ]
  },
  {
   "cell_type": "markdown",
   "metadata": {},
   "source": [
    "## 參考解答"
   ]
  },
  {
   "cell_type": "code",
   "execution_count": 1,
   "metadata": {},
   "outputs": [],
   "source": [
    "from sklearn.datasets import load_boston, load_wine\n",
    "from sklearn.linear_model import LinearRegression, LogisticRegression\n",
    "from sklearn.model_selection import train_test_split\n",
    "from sklearn.metrics import mean_squared_error, r2_score, accuracy_score\n",
    "import pandas as pd\n",
    "import numpy as np\n",
    "import matplotlib.pyplot as plt"
   ]
  },
  {
   "cell_type": "code",
   "execution_count": 2,
   "metadata": {},
   "outputs": [],
   "source": [
    "# 簡單回歸 Y=aX+b\n",
    "# 多元\n",
    "# 讀取 Boston 資料\n",
    "boston = load_boston()\n",
    "# print(type(boston))\n",
    "df1 = pd.DataFrame(boston.data, columns = boston.feature_names)\n",
    "df1['target'] = pd.Series(boston.target)\n",
    "x1 = df1.drop(['target'], axis = 1)\n",
    "y1 = df1[['target']]\n",
    "x1_train,x1_test,y1_train,y1_test=train_test_split(x1,y1,test_size=0.3,random_state=4)\n",
    "\n",
    "# 切分訓練集/測試集\n",
    "# x_train, x_test, y_train, y_test = train_test_split(boston.data, boston.target, test_size=0.1, random_state=4)\n",
    "# Normal\n",
    "from sklearn.preprocessing  import StandardScaler\n",
    "sc = StandardScaler()\n",
    "sc.fit(x1_train)\n",
    "x1_train_nor=sc.transform(x1_train)\n",
    "x1_test_nor=sc.transform(x1_test)\n",
    "# x1_train_nor[0:12]\n",
    "\n",
    "# 建立一個線性回歸模型\n",
    "regr1 = LinearRegression()\n",
    "\n",
    "# 將訓練資料丟進去模型訓練\n",
    "regr1.fit(x1_train_nor, y1_train)\n",
    "\n",
    "# 將測試資料丟進模型得到預測結果\n",
    "y1_pred = regr1.predict(x1_test_nor)"
   ]
  },
  {
   "cell_type": "code",
   "execution_count": 3,
   "metadata": {},
   "outputs": [
    {
     "name": "stdout",
     "output_type": "stream",
     "text": [
      "y=aX1+bX2+c的 a、b係數: [[-1.08673085  1.28610283 -0.0607036   1.03108551 -1.6887816   2.16731202\n",
      "  -0.09530735 -3.32627056  2.88971894 -2.39272265 -1.74561418  0.85424206\n",
      "  -3.70842299]]\n",
      "y=aX1+bX2+c的 c截距: [22.12231638]\n",
      "R平方 0.7465991966746854\n"
     ]
    },
    {
     "data": {
      "image/png": "[encoded data removed]",
      "text/plain": [
       "<Figure size 720x576 with 1 Axes>"
      ]
     },
     "metadata": {
      "needs_background": "light"
     },
     "output_type": "display_data"
    }
   ],
   "source": [
    "r_squared1 = regr1.score(x1_train_nor, y1_train)\n",
    "print('y=aX1+bX2+c的 a、b係數:',regr1.coef_)\n",
    "print('y=aX1+bX2+c的 c截距:',regr1.intercept_ )\n",
    "print('R平方',r_squared1)\n",
    "# plt.scatter(x1_test, y1_test, color='blue', marker='x')\n",
    "# plt.plot(range(len(x1_test)), y1_test, color='green', marker = 'o')\n",
    "# plt.plot(range(len(x1_test)), y1_pred, color='red', marker = 'x')\n",
    "df00 = pd.DataFrame({'Actual': np.array(y1_test)[0:10].flatten(), 'Predicted': np.array(y1_pred)[0:10].flatten()})\n",
    "df00.plot(kind='bar',figsize=(10,8))\n",
    "plt.grid(which='major', linestyle='-', linewidth='0.5', color='black')\n",
    "plt.grid(which='minor', linestyle=':', linewidth='0.5', color='green')\n",
    "plt.show()"
   ]
  },
  {
   "cell_type": "code",
   "execution_count": 4,
   "metadata": {},
   "outputs": [
    {
     "name": "stdout",
     "output_type": "stream",
     "text": [
      "Mean squared error: 30.05\n"
     ]
    }
   ],
   "source": [
    "print(\"Mean squared error: %.2f\"\n",
    "      % mean_squared_error(y1_test, y1_pred))"
   ]
  },
  {
   "cell_type": "code",
   "execution_count": 5,
   "metadata": {},
   "outputs": [],
   "source": [
    "# 多變項回歸 y=aX1 +bX2 +C\n",
    "# 讀取 wine 資料\n",
    "wine = load_wine()\n",
    "df2 = pd.DataFrame(wine.data, columns = wine.feature_names)\n",
    "\n",
    "# 切分訓練集/測試集\n",
    "x2_train, x2_test, y2_train, y2_test = train_test_split(wine.data, wine.target, test_size=0.3)\n",
    "\n",
    "# 標準化: 為了避免偏向某個變數去做訓練\n",
    "from sklearn.preprocessing  import StandardScaler\n",
    "sc = StandardScaler()\n",
    "sc.fit(x2_train)\n",
    "x2_train_nor=sc.transform(x2_train)\n",
    "x2_test_nor=sc.transform(x2_test)\n",
    "x2_train_nor[0:10]\n",
    "\n",
    "# # 建立一個羅吉斯回歸模型\n",
    "# regr = LogisticRegression()\n",
    "# 建立一個線性回歸模型\n",
    "regr2 = LinearRegression()\n",
    "\n",
    "# 將訓練資料丟進去模型訓練\n",
    "regr2.fit(x2_train_nor, y2_train)\n",
    "\n",
    "# 將測試資料丟進模型得到預測結果\n",
    "y2_pred = regr2.predict(x2_test_nor)"
   ]
  },
  {
   "cell_type": "code",
   "execution_count": 6,
   "metadata": {},
   "outputs": [
    {
     "name": "stdout",
     "output_type": "stream",
     "text": [
      "y=aX1+bX2+c的 a、b係數: [-0.12086865  0.05167214 -0.01252701  0.12351302 -0.03915603  0.09723262\n",
      " -0.40791663 -0.05187012  0.0050595   0.24791606  0.00607652 -0.13133992\n",
      " -0.24519378]\n",
      "y=aX1+bX2+c的 c截距: 0.9596774193548386\n",
      "R平方 0.9016549679246199\n"
     ]
    },
    {
     "data": {
      "image/png": "[encoded data removed]",
      "text/plain": [
       "<Figure size 432x288 with 1 Axes>"
      ]
     },
     "metadata": {
      "needs_background": "light"
     },
     "output_type": "display_data"
    }
   ],
   "source": [
    "r_squared2 = regr2.score(x2_train_nor, y2_train)\n",
    "print('y=aX1+bX2+c的 a、b係數:', regr2.coef_)\n",
    "print('y=aX1+bX2+c的 c截距:', regr2.intercept_ )\n",
    "print('R平方',r_squared2)\n",
    "for j in range(13):\n",
    "    plt.scatter(x2_test_nor[:,j], y2_test, color='blue', marker='x')\n",
    "    # plt.plot(x2_test_nor[:,j], y2_pred, color='green')\n"
   ]
  },
  {
   "cell_type": "code",
   "execution_count": 7,
   "metadata": {},
   "outputs": [
    {
     "name": "stdout",
     "output_type": "stream",
     "text": [
      "Mean squared error: 0.07\n"
     ]
    }
   ],
   "source": [
    "print(\"Mean squared error: %.2f\"\n",
    "      % mean_squared_error(y2_test, y2_pred))\n",
    "# acc = accuracy_score(y2_test, y2_pred)\n",
    "# print(\"Accuracy: \", acc)"
   ]
  },
  {
   "cell_type": "code",
   "execution_count": null,
   "metadata": {},
   "outputs": [],
   "source": []
  }
 ],
 "metadata": {
  "kernelspec": {
   "display_name": "Python 3",
   "language": "python",
   "name": "python3"
  },
  "language_info": {
   "codemirror_mode": {
    "name": "ipython",
    "version": 3
   },
   "file_extension": ".py",
   "mimetype": "text/x-python",
   "name": "python",
   "nbconvert_exporter": "python",
   "pygments_lexer": "ipython3",
   "version": "3.7.7"
  }
 },
 "nbformat": 4,
 "nbformat_minor": 4
}
