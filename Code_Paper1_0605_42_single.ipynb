{
 "cells": [
  {
   "cell_type": "markdown",
   "metadata": {},
   "source": [
    "目前使用LOP為定義之實驗數據採用42筆，單變數"
   ]
  },
  {
   "cell_type": "code",
   "execution_count": 1,
   "metadata": {},
   "outputs": [],
   "source": [
    "from sklearn.linear_model import LinearRegression\n",
    "from sklearn.model_selection import train_test_split\n",
    "from sklearn.metrics import mean_squared_error, r2_score\n",
    "import pandas as pd\n",
    "import numpy as np\n",
    "import matplotlib.pyplot as plt\n",
    "import os\n",
    "import seaborn as sns\n",
    "from sklearn import preprocessing as pre\n",
    "from scipy import stats"
   ]
  },
  {
   "cell_type": "code",
   "execution_count": 2,
   "metadata": {},
   "outputs": [
    {
     "data": {
      "text/plain": [
       "'/root/LR_ML'"
      ]
     },
     "execution_count": 2,
     "metadata": {},
     "output_type": "execute_result"
    }
   ],
   "source": [
    "# TIP = pd.read_csv(os.path.join(\"/root/LR_ML\", \"0507.xlsx\"))\n",
    "# TIP = pd.read_excel('0507.xlsx', index_col=None)\n",
    "# TIP = pd.read_csv(os.path.join('/root/LR_ML', 'Data_Sorted.csv'), error_bad_lines=False)\n",
    "os.getcwd()"
   ]
  },
  {
   "cell_type": "code",
   "execution_count": 3,
   "metadata": {},
   "outputs": [],
   "source": [
    "datafile = u\"/root/LR_ML/newData_42_e.xlsx\"\n",
    "TIP0 = pd.read_excel(datafile)"
   ]
  },
  {
   "cell_type": "code",
   "execution_count": 4,
   "metadata": {},
   "outputs": [],
   "source": [
    "TIP = pd.DataFrame(TIP0)"
   ]
  },
  {
   "cell_type": "code",
   "execution_count": 5,
   "metadata": {},
   "outputs": [
    {
     "data": {
      "text/html": [
       "<div>\n",
       "<style scoped>\n",
       "    .dataframe tbody tr th:only-of-type {\n",
       "        vertical-align: middle;\n",
       "    }\n",
       "\n",
       "    .dataframe tbody tr th {\n",
       "        vertical-align: top;\n",
       "    }\n",
       "\n",
       "    .dataframe thead th {\n",
       "        text-align: right;\n",
       "    }\n",
       "</style>\n",
       "<table border=\"1\" class=\"dataframe\">\n",
       "  <thead>\n",
       "    <tr style=\"text-align: right;\">\n",
       "      <th></th>\n",
       "      <th>SBPI</th>\n",
       "      <th>SBPL</th>\n",
       "      <th>DBPI</th>\n",
       "      <th>DBPL</th>\n",
       "      <th>BPMI</th>\n",
       "      <th>BPML</th>\n",
       "      <th>LOP</th>\n",
       "    </tr>\n",
       "  </thead>\n",
       "  <tbody>\n",
       "    <tr>\n",
       "      <th>0</th>\n",
       "      <td>137</td>\n",
       "      <td>144</td>\n",
       "      <td>92</td>\n",
       "      <td>93</td>\n",
       "      <td>93</td>\n",
       "      <td>85</td>\n",
       "      <td>138.5</td>\n",
       "    </tr>\n",
       "    <tr>\n",
       "      <th>1</th>\n",
       "      <td>111</td>\n",
       "      <td>110</td>\n",
       "      <td>60</td>\n",
       "      <td>68</td>\n",
       "      <td>68</td>\n",
       "      <td>67</td>\n",
       "      <td>119.3</td>\n",
       "    </tr>\n",
       "    <tr>\n",
       "      <th>2</th>\n",
       "      <td>114</td>\n",
       "      <td>109</td>\n",
       "      <td>61</td>\n",
       "      <td>70</td>\n",
       "      <td>76</td>\n",
       "      <td>71</td>\n",
       "      <td>120.0</td>\n",
       "    </tr>\n",
       "    <tr>\n",
       "      <th>3</th>\n",
       "      <td>112</td>\n",
       "      <td>113</td>\n",
       "      <td>71</td>\n",
       "      <td>62</td>\n",
       "      <td>79</td>\n",
       "      <td>76</td>\n",
       "      <td>116.3</td>\n",
       "    </tr>\n",
       "    <tr>\n",
       "      <th>4</th>\n",
       "      <td>125</td>\n",
       "      <td>114</td>\n",
       "      <td>66</td>\n",
       "      <td>62</td>\n",
       "      <td>76</td>\n",
       "      <td>78</td>\n",
       "      <td>135.0</td>\n",
       "    </tr>\n",
       "  </tbody>\n",
       "</table>\n",
       "</div>"
      ],
      "text/plain": [
       "   SBPI  SBPL  DBPI  DBPL  BPMI  BPML    LOP\n",
       "0   137   144    92    93    93    85  138.5\n",
       "1   111   110    60    68    68    67  119.3\n",
       "2   114   109    61    70    76    71  120.0\n",
       "3   112   113    71    62    79    76  116.3\n",
       "4   125   114    66    62    76    78  135.0"
      ]
     },
     "execution_count": 5,
     "metadata": {},
     "output_type": "execute_result"
    }
   ],
   "source": [
    "TIP.head()"
   ]
  },
  {
   "cell_type": "code",
   "execution_count": 6,
   "metadata": {},
   "outputs": [
    {
     "data": {
      "image/png": "[encoded data removed]",
      "text/plain": [
       "<Figure size 432x288 with 1 Axes>"
      ]
     },
     "metadata": {
      "needs_background": "light"
     },
     "output_type": "display_data"
    },
    {
     "data": {
      "image/png": "[encoded data removed]",
      "text/plain": [
       "<Figure size 432x288 with 1 Axes>"
      ]
     },
     "metadata": {
      "needs_background": "light"
     },
     "output_type": "display_data"
    }
   ],
   "source": [
    "modTIP = TIP\n",
    "#繪製散點圖,examDf.jt爲X軸，examDf.hk爲Y軸\n",
    "plt.scatter(modTIP.SBPI,modTIP.LOP,color = 'darkgreen',label = \"Exam Data\")\n",
    "#添加圖的標籤（x軸，y軸）\n",
    "plt.xlabel(\"The SBPI(mmHg)\")#設置X軸標籤\n",
    "plt.ylabel(\"The LOP(mmHg)\")#設置Y軸標籤\n",
    "plt.show()#顯示圖像\n",
    "plt.scatter(modTIP.SBPL,modTIP.LOP,color = 'red',label = \"Exam Data\")\n",
    "plt.xlabel(\"The SBPL(mmHg)\")#設置X軸標籤\n",
    "plt.ylabel(\"The LOP(mmHg)\")#設置Y軸標籤\n",
    "plt.show()#顯示圖像\n",
    "# plt.scatter(modTIP.SBPM,modTIP.LOP,color = 'blue',label = \"Exam Data\")\n",
    "# plt.xlabel(\"The SBPM(mmHg)\")#設置X軸標籤\n",
    "# plt.ylabel(\"The LOP(mmHg)\")#設置Y軸標籤\n",
    "# plt.show()#顯示圖像"
   ]
  },
  {
   "cell_type": "code",
   "execution_count": 7,
   "metadata": {},
   "outputs": [
    {
     "name": "stdout",
     "output_type": "stream",
     "text": [
      "             SBPI        SBPL        DBPI        DBPL        BPMI        BPML  \\\n",
      "count   38.000000   38.000000   38.000000   38.000000   38.000000   38.000000   \n",
      "mean   120.657895  122.078947   75.105263   76.657895   83.157895   83.052632   \n",
      "std     11.553112   13.952393   10.839840   11.409518   11.170730   11.512502   \n",
      "min    102.000000  104.000000   58.000000   62.000000   57.000000   59.000000   \n",
      "25%    112.250000  110.000000   66.250000   68.000000   75.250000   75.000000   \n",
      "50%    117.000000  118.500000   73.000000   72.000000   83.000000   82.500000   \n",
      "75%    128.250000  133.250000   83.750000   85.750000   92.750000   92.750000   \n",
      "max    145.000000  151.000000  101.000000  102.000000  107.000000  107.000000   \n",
      "\n",
      "              LOP  \n",
      "count   38.000000  \n",
      "mean   135.768421  \n",
      "std     18.438094  \n",
      "min    112.600000  \n",
      "25%    120.000000  \n",
      "50%    135.600000  \n",
      "75%    144.300000  \n",
      "max    176.500000  \n",
      "          SBPI      SBPL      DBPI      DBPL      BPMI      BPML       LOP\n",
      "SBPI  1.000000  0.803638  0.776141  0.646800  0.387228  0.390898  0.611864\n",
      "SBPL  0.803638  1.000000  0.799451  0.685909  0.494996  0.513670  0.535738\n",
      "DBPI  0.776141  0.799451  1.000000  0.732151  0.602945  0.543121  0.639851\n",
      "DBPL  0.646800  0.685909  0.732151  1.000000  0.591646  0.588821  0.566556\n",
      "BPMI  0.387228  0.494996  0.602945  0.591646  1.000000  0.844981  0.449257\n",
      "BPML  0.390898  0.513670  0.543121  0.588821  0.844981  1.000000  0.537764\n",
      "LOP   0.611864  0.535738  0.639851  0.566556  0.449257  0.537764  1.000000\n"
     ]
    },
    {
     "data": {
      "text/plain": [
       "<matplotlib.axes._subplots.AxesSubplot at 0x7fd0906c0c90>"
      ]
     },
     "execution_count": 7,
     "metadata": {},
     "output_type": "execute_result"
    },
    {
     "data": {
      "image/png": "[encoded data removed]",
      "text/plain": [
       "<Figure size 432x288 with 2 Axes>"
      ]
     },
     "metadata": {
      "needs_background": "light"
     },
     "output_type": "display_data"
    }
   ],
   "source": [
    "print(modTIP.describe())\n",
    "rDf = modTIP.corr()#查看數據間的相關係數\n",
    "print(rDf)\n",
    "sns.heatmap(modTIP.corr(),annot=True, cmap=\"YlGnBu\")"
   ]
  },
  {
   "cell_type": "code",
   "execution_count": 8,
   "metadata": {},
   "outputs": [],
   "source": [
    "def t_test(group1, group2):\n",
    "    mean1 = np.mean(group1)\n",
    "    mean2 = np.mean(group2)\n",
    "    std1 = np.std(group1)\n",
    "    std2 = np.std(group2)\n",
    "    nobs1 = len(group1)\n",
    "    nobs2 = len(group2)\n",
    "    \n",
    "    modified_std1 = np.sqrt(np.float32(nobs1)/\n",
    "                    np.float32(nobs1-1)) * std1\n",
    "    modified_std2 = np.sqrt(np.float32(nobs2)/\n",
    "                    np.float32(nobs2-1)) * std2\n",
    "    (statistic, pvalue) = stats.ttest_ind_from_stats( \n",
    "               mean1=mean1, std1=modified_std1, nobs1=nobs1,   \n",
    "               mean2=mean2, std2=modified_std2, nobs2=nobs2 )\n",
    "    return statistic, pvalue"
   ]
  },
  {
   "cell_type": "code",
   "execution_count": 9,
   "metadata": {},
   "outputs": [
    {
     "name": "stdout",
     "output_type": "stream",
     "text": [
      "(-0.48358178722490996, 0.6301105946376931)\n",
      "(-0.6081565761524232, 0.5449457435739105)\n",
      "(0.04045097209731325, 0.9678425329407373)\n",
      "(-4.280948101395359, 5.5057698229464655e-05)\n",
      "(-3.6496467522707454, 0.0004865115169469321)\n",
      "(-17.483873693664556, 5.425372829284389e-28)\n",
      "(-16.805166865119293, 5.6776755994225594e-27)\n",
      "(-15.043726645845307, 3.2864910495176614e-24)\n",
      "(-14.949653925611864, 4.6673542075787186e-24)\n",
      "(0.0, 1.0)\n"
     ]
    }
   ],
   "source": [
    "print(t_test(modTIP.SBPI, modTIP.SBPL))\n",
    "# print(t_test(modTIP.SBPI, modTIP.SBPM))\n",
    "# print(t_test(modTIP.SBPL, modTIP.SBPM))\n",
    "print(t_test(modTIP.DBPI, modTIP.DBPL))\n",
    "# print(t_test(modTIP.DBPI, modTIP.DBPM))\n",
    "# print(t_test(modTIP.DBPL, modTIP.DBPM))\n",
    "print(t_test(modTIP.BPMI, modTIP.BPML))\n",
    "# print(t_test(modTIP.BPMI, modTIP.BPMM))\n",
    "# print(t_test(modTIP.BPML, modTIP.BPMM))\n",
    "print(t_test(modTIP.SBPI, modTIP.LOP))\n",
    "print(t_test(modTIP.SBPL, modTIP.LOP))\n",
    "# print(t_test(modTIP.SBPM, modTIP.LOP))\n",
    "print(t_test(modTIP.DBPI, modTIP.LOP))\n",
    "print(t_test(modTIP.DBPL, modTIP.LOP))\n",
    "# print(t_test(modTIP.DBPM, modTIP.LOP))\n",
    "print(t_test(modTIP.BPMI, modTIP.LOP))\n",
    "print(t_test(modTIP.BPML, modTIP.LOP))\n",
    "# print(t_test(modTIP.BPMM, modTIP.LOP))\n",
    "print(t_test(modTIP.LOP, modTIP.LOP))"
   ]
  },
  {
   "cell_type": "code",
   "execution_count": 10,
   "metadata": {},
   "outputs": [
    {
     "name": "stdout",
     "output_type": "stream",
     "text": [
      "自變量---源數據: (38,) ；  訓練集: (30,) ；  測試集: (8,)\n",
      "因變量---源數據: (38,) ；  訓練集: (30,) ；  測試集: (8,)\n"
     ]
    },
    {
     "data": {
      "image/png": "[encoded data removed]",
      "text/plain": [
       "<Figure size 432x288 with 1 Axes>"
      ]
     },
     "metadata": {
      "needs_background": "light"
     },
     "output_type": "display_data"
    }
   ],
   "source": [
    "#拆分訓練集和測試集（train_test_split是存在與sklearn中的函數）\n",
    "X_train,X_test,Y_train,Y_test = train_test_split(modTIP.SBPI,modTIP.LOP,train_size=0.8,random_state=1)\n",
    "#train爲訓練數據,test爲測試數據,examDf爲源數據,train_size 規定了訓練數據的佔比\n",
    "print(\"自變量---源數據:\",modTIP.SBPI.shape, \"；  訓練集:\",X_train.shape, \"；  測試集:\",X_test.shape)\n",
    "print(\"因變量---源數據:\",modTIP.LOP.shape, \"；  訓練集:\",Y_train.shape, \"；  測試集:\",Y_test.shape)\n",
    "#散點圖\n",
    "plt.scatter(X_train, Y_train, color=\"darkgreen\", label=\"train data\")#訓練集爲深綠色點\n",
    "plt.scatter(X_test, Y_test, color=\"red\", label=\"test data\")#測試集爲紅色點\n",
    "#添加標籤\n",
    "plt.legend(loc=2)#圖標位於左上角，即第2象限，類似的，1爲右上角，3爲左下角，4爲右下角\n",
    "plt.xlabel(\"The SBPI\")#添加 X 軸名稱\n",
    "plt.ylabel(\"The LOP\")#添加 Y 軸名稱\n",
    "plt.show()#顯示散點圖"
   ]
  },
  {
   "cell_type": "code",
   "execution_count": 11,
   "metadata": {},
   "outputs": [
    {
     "name": "stdout",
     "output_type": "stream",
     "text": [
      "自變量---源數據: (38,) ；  訓練集: (30,) ；  測試集: (8,)\n",
      "因變量---源數據: (38,) ；  訓練集: (30,) ；  測試集: (8,)\n"
     ]
    },
    {
     "data": {
      "image/png": "[encoded data removed]",
      "text/plain": [
       "<Figure size 432x288 with 1 Axes>"
      ]
     },
     "metadata": {
      "needs_background": "light"
     },
     "output_type": "display_data"
    }
   ],
   "source": [
    "#拆分訓練集和測試集（train_test_split是存在與sklearn中的函數）\n",
    "X_train2,X_test2,Y_train2,Y_test2 = train_test_split(modTIP.DBPI,modTIP.LOP,train_size=0.8,random_state=1)\n",
    "#train爲訓練數據,test爲測試數據,examDf爲源數據,train_size 規定了訓練數據的佔比\n",
    "print(\"自變量---源數據:\",modTIP.DBPI.shape, \"；  訓練集:\",X_train2.shape, \"；  測試集:\",X_test2.shape)\n",
    "print(\"因變量---源數據:\",modTIP.LOP.shape, \"；  訓練集:\",Y_train2.shape, \"；  測試集:\",Y_test2.shape)\n",
    "#散點圖\n",
    "plt.scatter(X_train2, Y_train2, color=\"darkgreen\", label=\"train data\")#訓練集爲深綠色點\n",
    "plt.scatter(X_test2, Y_test2, color=\"red\", label=\"test data\")#測試集爲紅色點\n",
    "#添加標籤\n",
    "plt.legend(loc=2)#圖標位於左上角，即第2象限，類似的，1爲右上角，3爲左下角，4爲右下角\n",
    "plt.xlabel(\"The SBPL\")#添加 X 軸名稱\n",
    "plt.ylabel(\"The LOP\")#添加 Y 軸名稱\n",
    "plt.show()#顯示散點圖"
   ]
  },
  {
   "cell_type": "code",
   "execution_count": 12,
   "metadata": {},
   "outputs": [],
   "source": [
    "# #拆分訓練集和測試集（train_test_split是存在與sklearn中的函數）\n",
    "# X_train3,X_test3,Y_train3,Y_test3 = train_test_split(modTIP.SBPM,modTIP.LOP,train_size=0.8,random_state=1)\n",
    "# #train爲訓練數據,test爲測試數據,examDf爲源數據,train_size 規定了訓練數據的佔比\n",
    "# print(\"自變量---源數據:\",modTIP.SBPM.shape, \"；  訓練集:\",X_train3.shape, \"；  測試集:\",X_test3.shape)\n",
    "# print(\"因變量---源數據:\",modTIP.LOP.shape, \"；  訓練集:\",Y_train3.shape, \"；  測試集:\",Y_test3.shape)\n",
    "# #散點圖\n",
    "# plt.scatter(X_train3, Y_train3, color=\"darkgreen\", label=\"train data\")#訓練集爲深綠色點\n",
    "# plt.scatter(X_test3, Y_test3, color=\"red\", label=\"test data\")#測試集爲紅色點\n",
    "# #添加標籤\n",
    "# plt.legend(loc=2)#圖標位於左上角，即第2象限，類似的，1爲右上角，3爲左下角，4爲右下角\n",
    "# plt.xlabel(\"The SBPM\")#添加 X 軸名稱\n",
    "# plt.ylabel(\"The LOP\")#添加 Y 軸名稱\n",
    "# plt.show()#顯示散點圖"
   ]
  },
  {
   "cell_type": "code",
   "execution_count": 13,
   "metadata": {},
   "outputs": [],
   "source": [
    "# plt.scatter(modTIP.SBP1, modTIP.TIP, color=\"darkgreen\", label=\"分布\")"
   ]
  },
  {
   "cell_type": "code",
   "execution_count": 14,
   "metadata": {},
   "outputs": [],
   "source": [
    "# X_1 = np.array([1 for i in range(28)])\n",
    "# x_train = np.array(X_train)\n",
    "# x = np.zeros((28,2))\n",
    "# x[:,0] = X_1\n",
    "# x[:,1] = x_train\n",
    "# #線性迴歸訓練\n",
    "# model = LinearRegression()\n",
    "# model.fit(x,Y_train)#調用線性迴歸包\n",
    "# a  = model.intercept_#截距\n",
    "# b = model.coef_#迴歸係數\n",
    "# #訓練數據的預測值\n",
    "# y_train_pred = model.predict(x)\n",
    "# #繪製最佳擬合線：標籤用的是訓練數據的預測值y_train_pred\n",
    "# plt.plot(X_train, y_train_pred, color='blue', linewidth=2, label=\"best line\")\n",
    "# #測試數據散點圖\n",
    "# plt.scatter(X_train, Y_train, color='darkgreen', label=\"train data\")\n",
    "# plt.scatter(X_test, Y_test, color='red', label=\"test data\")\n",
    "# #添加圖標標籤\n",
    "# plt.legend(loc=2)#圖標位於左上角，即第2象限，類似的，1爲右上角，3爲左下角，4爲右下角\n",
    "# plt.xlabel(\"The SBP\")#添加 X 軸名稱\n",
    "# plt.ylabel(\"The TIP\")#添加 Y 軸名稱\n",
    "# plt.show()#顯示圖像\n",
    "# print(\"擬合參數:截距\",a,\",迴歸係數：\",b)\n",
    "# print(\"最佳擬合線: Y = \",round(a,2),\"+\",round(b[1],2),\"* X\")\n",
    "# #顯示線性方程，並限制參數的小數位爲兩位"
   ]
  },
  {
   "cell_type": "code",
   "execution_count": 15,
   "metadata": {},
   "outputs": [],
   "source": [
    "q = np.array(X_train)#q原先shape是(28,0)\n",
    "np.shape(q)\n",
    "q = np.reshape(q, (30,1))#reshape換成(28,1)"
   ]
  },
  {
   "cell_type": "code",
   "execution_count": 16,
   "metadata": {},
   "outputs": [
    {
     "data": {
      "image/png": "[encoded data removed]",
      "text/plain": [
       "<Figure size 432x288 with 1 Axes>"
      ]
     },
     "metadata": {
      "needs_background": "light"
     },
     "output_type": "display_data"
    },
    {
     "name": "stdout",
     "output_type": "stream",
     "text": [
      "擬合參數:截距 21.610386157211266 ,迴歸係數： [0.95299436]\n",
      "最佳擬合線: Y =  21.61 + 0.95 * X\n"
     ]
    }
   ],
   "source": [
    "model = LinearRegression()\n",
    "model.fit(q,Y_train)#調用線性迴歸包\n",
    "# model.fit(X_train,Y_train)\n",
    "a  = model.intercept_#截距\n",
    "b = model.coef_#迴歸係數\n",
    "#訓練數據的預測值\n",
    "y_train_pred = model.predict(q)\n",
    "#繪製最佳擬合線：標籤用的是訓練數據的預測值y_train_pred\n",
    "plt.plot(X_train, y_train_pred, color='blue', linewidth=2, label=\"best line\")\n",
    "#測試數據散點圖\n",
    "plt.scatter(X_train, Y_train, color='darkgreen', label=\"train data\")\n",
    "plt.scatter(X_test, Y_test, color='red', label=\"test data\")\n",
    "#添加圖標標籤\n",
    "plt.legend(loc=2)#圖標位於左上角，即第2象限，類似的，1爲右上角，3爲左下角，4爲右下角\n",
    "plt.xlabel(\"The SBPI\")#添加 X 軸名稱\n",
    "plt.ylabel(\"The LOP\")#添加 Y 軸名稱\n",
    "plt.show()#顯示圖像\n",
    "print(\"擬合參數:截距\",a,\",迴歸係數：\",b)\n",
    "print(\"最佳擬合線: Y = \",round(a,2),\"+\",round(b[0],2),\"* X\")\n",
    "#顯示線性方程，並限制參數的小數位爲兩位"
   ]
  },
  {
   "cell_type": "code",
   "execution_count": 17,
   "metadata": {},
   "outputs": [],
   "source": [
    "q2 = np.array(X_train2)#q原先shape是(28,0)\n",
    "np.shape(q2)\n",
    "q2 = np.reshape(q2, (30,1))#reshape換成(28,1)"
   ]
  },
  {
   "cell_type": "code",
   "execution_count": 18,
   "metadata": {},
   "outputs": [
    {
     "data": {
      "image/png": "[encoded data removed]",
      "text/plain": [
       "<Figure size 432x288 with 1 Axes>"
      ]
     },
     "metadata": {
      "needs_background": "light"
     },
     "output_type": "display_data"
    },
    {
     "name": "stdout",
     "output_type": "stream",
     "text": [
      "擬合參數:截距 52.9770325849298 ,迴歸係數： [1.11562979]\n",
      "最佳擬合線: Y =  52.98 + 1.12 * X\n"
     ]
    }
   ],
   "source": [
    "model2 = LinearRegression()\n",
    "model2.fit(q2,Y_train2)#調用線性迴歸包\n",
    "# model.fit(X_train,Y_train)\n",
    "a2  = model2.intercept_#截距\n",
    "b2 = model2.coef_#迴歸係數\n",
    "#訓練數據的預測值\n",
    "y_train_pred2 = model2.predict(q2)\n",
    "#繪製最佳擬合線：標籤用的是訓練數據的預測值y_train_pred\n",
    "plt.plot(X_train2, y_train_pred2, color='blue', linewidth=2, label=\"best line\")\n",
    "#測試數據散點圖\n",
    "plt.scatter(X_train2, Y_train2, color='darkgreen', label=\"train data\")\n",
    "plt.scatter(X_test2, Y_test2, color='red', label=\"test data\")\n",
    "#添加圖標標籤\n",
    "plt.legend(loc=2)#圖標位於左上角，即第2象限，類似的，1爲右上角，3爲左下角，4爲右下角\n",
    "plt.xlabel(\"The DBPI\")#添加 X 軸名稱\n",
    "plt.ylabel(\"The LOP\")#添加 Y 軸名稱\n",
    "plt.show()#顯示圖像\n",
    "print(\"擬合參數:截距\",a2,\",迴歸係數：\",b2)\n",
    "print(\"最佳擬合線: Y = \",round(a2,2),\"+\",round(b2[0],2),\"* X\")\n",
    "#顯示線性方程，並限制參數的小數位爲兩位"
   ]
  },
  {
   "cell_type": "code",
   "execution_count": 19,
   "metadata": {},
   "outputs": [],
   "source": [
    "# q3 = np.array(X_train3)#q原先shape是(28,0)\n",
    "# np.shape(q3)\n",
    "# q3 = np.reshape(q3, (28,1))#reshape換成(28,1)"
   ]
  },
  {
   "cell_type": "code",
   "execution_count": 20,
   "metadata": {},
   "outputs": [],
   "source": [
    "# model3 = LinearRegression()\n",
    "# model3.fit(q3,Y_train3)#調用線性迴歸包\n",
    "# # model.fit(X_train,Y_train)\n",
    "# a3  = model3.intercept_#截距\n",
    "# b3 = model3.coef_#迴歸係數\n",
    "# #訓練數據的預測值\n",
    "# y_train_pred3 = model3.predict(q3)\n",
    "# #繪製最佳擬合線：標籤用的是訓練數據的預測值y_train_pred\n",
    "# plt.plot(X_train3, y_train_pred3, color='blue', linewidth=2, label=\"best line\")\n",
    "# #測試數據散點圖\n",
    "# plt.scatter(X_train3, Y_train3, color='darkgreen', label=\"train data\")\n",
    "# plt.scatter(X_test3, Y_test3, color='red', label=\"test data\")\n",
    "# #添加圖標標籤\n",
    "# plt.legend(loc=2)#圖標位於左上角，即第2象限，類似的，1爲右上角，3爲左下角，4爲右下角\n",
    "# plt.xlabel(\"The SBPM\")#添加 X 軸名稱\n",
    "# plt.ylabel(\"The LOP\")#添加 Y 軸名稱\n",
    "# plt.show()#顯示圖像\n",
    "# print(\"擬合參數:截距\",a3,\",迴歸係數：\",b3)\n",
    "# print(\"最佳擬合線: Y = \",round(a3,2),\"+\",round(b3[0],2),\"* X\")\n",
    "# #顯示線性方程，並限制參數的小數位爲兩位"
   ]
  }
 ],
 "metadata": {
  "kernelspec": {
   "display_name": "Python 3",
   "language": "python",
   "name": "python3"
  },
  "language_info": {
   "codemirror_mode": {
    "name": "ipython",
    "version": 3
   },
   "file_extension": ".py",
   "mimetype": "text/x-python",
   "name": "python",
   "nbconvert_exporter": "python",
   "pygments_lexer": "ipython3",
   "version": "3.7.7"
  }
 },
 "nbformat": 4,
 "nbformat_minor": 4
}
