{
 "cells": [
  {
   "cell_type": "markdown",
   "metadata": {},
   "source": [
    "目前使用LOP為定義之實驗數據採用33筆原，單變數"
   ]
  },
  {
   "cell_type": "code",
   "execution_count": 1,
   "metadata": {},
   "outputs": [],
   "source": [
    "from sklearn.linear_model import LinearRegression\n",
    "from sklearn.model_selection import train_test_split\n",
    "from sklearn.metrics import mean_squared_error, r2_score\n",
    "import pandas as pd\n",
    "import numpy as np\n",
    "import matplotlib.pyplot as plt\n",
    "import os\n",
    "import seaborn as sns\n",
    "from sklearn import preprocessing as pre\n",
    "from scipy import stats"
   ]
  },
  {
   "cell_type": "code",
   "execution_count": 2,
   "metadata": {},
   "outputs": [
    {
     "data": {
      "text/plain": [
       "'/root/LR_ML'"
      ]
     },
     "execution_count": 2,
     "metadata": {},
     "output_type": "execute_result"
    }
   ],
   "source": [
    "# TIP = pd.read_csv(os.path.join(\"/root/LR_ML\", \"0507.xlsx\"))\n",
    "# TIP = pd.read_excel('0507.xlsx', index_col=None)\n",
    "# TIP = pd.read_csv(os.path.join('/root/LR_ML', 'Data_Sorted.csv'), error_bad_lines=False)\n",
    "os.getcwd()"
   ]
  },
  {
   "cell_type": "code",
   "execution_count": 3,
   "metadata": {},
   "outputs": [],
   "source": [
    "datafile = u\"/root/LR_ML/newData_mean6_2_o.xlsx\"\n",
    "TIP0 = pd.read_excel(datafile)"
   ]
  },
  {
   "cell_type": "code",
   "execution_count": 4,
   "metadata": {},
   "outputs": [],
   "source": [
    "TIP = pd.DataFrame(TIP0)"
   ]
  },
  {
   "cell_type": "code",
   "execution_count": 5,
   "metadata": {},
   "outputs": [
    {
     "data": {
      "text/html": [
       "<div>\n",
       "<style scoped>\n",
       "    .dataframe tbody tr th:only-of-type {\n",
       "        vertical-align: middle;\n",
       "    }\n",
       "\n",
       "    .dataframe tbody tr th {\n",
       "        vertical-align: top;\n",
       "    }\n",
       "\n",
       "    .dataframe thead th {\n",
       "        text-align: right;\n",
       "    }\n",
       "</style>\n",
       "<table border=\"1\" class=\"dataframe\">\n",
       "  <thead>\n",
       "    <tr style=\"text-align: right;\">\n",
       "      <th></th>\n",
       "      <th>SBPI</th>\n",
       "      <th>SBPL</th>\n",
       "      <th>DBPI</th>\n",
       "      <th>DBPL</th>\n",
       "      <th>BPMI</th>\n",
       "      <th>BPML</th>\n",
       "      <th>LOP</th>\n",
       "    </tr>\n",
       "  </thead>\n",
       "  <tbody>\n",
       "    <tr>\n",
       "      <th>0</th>\n",
       "      <td>133</td>\n",
       "      <td>140</td>\n",
       "      <td>85</td>\n",
       "      <td>88</td>\n",
       "      <td>83</td>\n",
       "      <td>94</td>\n",
       "      <td>140.0</td>\n",
       "    </tr>\n",
       "    <tr>\n",
       "      <th>1</th>\n",
       "      <td>135</td>\n",
       "      <td>128</td>\n",
       "      <td>89</td>\n",
       "      <td>92</td>\n",
       "      <td>92</td>\n",
       "      <td>90</td>\n",
       "      <td>140.0</td>\n",
       "    </tr>\n",
       "    <tr>\n",
       "      <th>2</th>\n",
       "      <td>113</td>\n",
       "      <td>110</td>\n",
       "      <td>64</td>\n",
       "      <td>68</td>\n",
       "      <td>70</td>\n",
       "      <td>75</td>\n",
       "      <td>120.0</td>\n",
       "    </tr>\n",
       "    <tr>\n",
       "      <th>3</th>\n",
       "      <td>116</td>\n",
       "      <td>118</td>\n",
       "      <td>73</td>\n",
       "      <td>71</td>\n",
       "      <td>72</td>\n",
       "      <td>77</td>\n",
       "      <td>120.0</td>\n",
       "    </tr>\n",
       "    <tr>\n",
       "      <th>4</th>\n",
       "      <td>114</td>\n",
       "      <td>123</td>\n",
       "      <td>71</td>\n",
       "      <td>73</td>\n",
       "      <td>83</td>\n",
       "      <td>78</td>\n",
       "      <td>120.0</td>\n",
       "    </tr>\n",
       "  </tbody>\n",
       "</table>\n",
       "</div>"
      ],
      "text/plain": [
       "   SBPI  SBPL  DBPI  DBPL  BPMI  BPML    LOP\n",
       "0   133   140    85    88    83    94  140.0\n",
       "1   135   128    89    92    92    90  140.0\n",
       "2   113   110    64    68    70    75  120.0\n",
       "3   116   118    73    71    72    77  120.0\n",
       "4   114   123    71    73    83    78  120.0"
      ]
     },
     "execution_count": 5,
     "metadata": {},
     "output_type": "execute_result"
    }
   ],
   "source": [
    "TIP.head()"
   ]
  },
  {
   "cell_type": "code",
   "execution_count": 6,
   "metadata": {},
   "outputs": [
    {
     "data": {
      "image/png": "[encoded data removed]",
      "text/plain": [
       "<Figure size 432x288 with 1 Axes>"
      ]
     },
     "metadata": {
      "needs_background": "light"
     },
     "output_type": "display_data"
    },
    {
     "data": {
      "image/png": "[encoded data removed]",
      "text/plain": [
       "<Figure size 432x288 with 1 Axes>"
      ]
     },
     "metadata": {
      "needs_background": "light"
     },
     "output_type": "display_data"
    }
   ],
   "source": [
    "modTIP = TIP\n",
    "#繪製散點圖,examDf.jt爲X軸，examDf.hk爲Y軸\n",
    "plt.scatter(modTIP.SBPI,modTIP.LOP,color = 'darkgreen',label = \"Exam Data\")\n",
    "#添加圖的標籤（x軸，y軸）\n",
    "plt.xlabel(\"The SBPI(mmHg)\")#設置X軸標籤\n",
    "plt.ylabel(\"The LOP(mmHg)\")#設置Y軸標籤\n",
    "plt.show()#顯示圖像\n",
    "plt.scatter(modTIP.SBPL,modTIP.LOP,color = 'red',label = \"Exam Data\")\n",
    "plt.xlabel(\"The SBPL(mmHg)\")#設置X軸標籤\n",
    "plt.ylabel(\"The LOP(mmHg)\")#設置Y軸標籤\n",
    "plt.show()#顯示圖像\n",
    "# plt.scatter(modTIP.SBPM,modTIP.LOP,color = 'blue',label = \"Exam Data\")\n",
    "# plt.xlabel(\"The SBPM(mmHg)\")#設置X軸標籤\n",
    "# plt.ylabel(\"The LOP(mmHg)\")#設置Y軸標籤\n",
    "# plt.show()#顯示圖像"
   ]
  },
  {
   "cell_type": "code",
   "execution_count": 7,
   "metadata": {},
   "outputs": [
    {
     "name": "stdout",
     "output_type": "stream",
     "text": [
      "             SBPI        SBPL       DBPI        DBPL        BPMI        BPML  \\\n",
      "count   33.000000   33.000000  33.000000   33.000000   33.000000   33.000000   \n",
      "mean   120.848485  121.181818  76.636364   75.787879   83.969697   83.030303   \n",
      "std     11.921937   13.309899  11.296621   11.379141   10.938707   10.023363   \n",
      "min    103.000000  104.000000  62.000000   60.000000   65.000000   64.000000   \n",
      "25%    112.000000  110.000000  68.000000   68.000000   76.000000   76.000000   \n",
      "50%    116.000000  118.000000  73.000000   73.000000   83.000000   83.000000   \n",
      "75%    133.000000  132.000000  86.000000   84.000000   92.000000   92.000000   \n",
      "max    145.000000  145.000000  99.000000  102.000000  107.000000  103.000000   \n",
      "\n",
      "              LOP  \n",
      "count   33.000000  \n",
      "mean   135.300000  \n",
      "std     17.567815  \n",
      "min    114.300000  \n",
      "25%    120.000000  \n",
      "50%    135.300000  \n",
      "75%    140.000000  \n",
      "max    176.500000  \n",
      "          SBPI      SBPL      DBPI      DBPL      BPMI      BPML       LOP\n",
      "SBPI  1.000000  0.829286  0.678050  0.824419  0.485929  0.475728  0.745253\n",
      "SBPL  0.829286  1.000000  0.658679  0.844572  0.477397  0.480853  0.593818\n",
      "DBPI  0.678050  0.658679  1.000000  0.705598  0.429825  0.340116  0.499463\n",
      "DBPL  0.824419  0.844572  0.705598  1.000000  0.578887  0.646937  0.696231\n",
      "BPMI  0.485929  0.477397  0.429825  0.578887  1.000000  0.783520  0.396916\n",
      "BPML  0.475728  0.480853  0.340116  0.646937  0.783520  1.000000  0.540619\n",
      "LOP   0.745253  0.593818  0.499463  0.696231  0.396916  0.540619  1.000000\n"
     ]
    },
    {
     "data": {
      "text/plain": [
       "<matplotlib.axes._subplots.AxesSubplot at 0x7f516921f490>"
      ]
     },
     "execution_count": 7,
     "metadata": {},
     "output_type": "execute_result"
    },
    {
     "data": {
      "image/png": "[encoded data removed]",
      "text/plain": [
       "<Figure size 432x288 with 2 Axes>"
      ]
     },
     "metadata": {
      "needs_background": "light"
     },
     "output_type": "display_data"
    }
   ],
   "source": [
    "print(modTIP.describe())\n",
    "rDf = modTIP.corr()#查看數據間的相關係數\n",
    "print(rDf)\n",
    "sns.heatmap(modTIP.corr(),annot=True, cmap=\"YlGnBu\")"
   ]
  },
  {
   "cell_type": "code",
   "execution_count": 8,
   "metadata": {},
   "outputs": [],
   "source": [
    "def t_test(group1, group2):\n",
    "    mean1 = np.mean(group1)\n",
    "    mean2 = np.mean(group2)\n",
    "    std1 = np.std(group1)\n",
    "    std2 = np.std(group2)\n",
    "    nobs1 = len(group1)\n",
    "    nobs2 = len(group2)\n",
    "    \n",
    "    modified_std1 = np.sqrt(np.float32(nobs1)/\n",
    "                    np.float32(nobs1-1)) * std1\n",
    "    modified_std2 = np.sqrt(np.float32(nobs2)/\n",
    "                    np.float32(nobs2-1)) * std2\n",
    "    (statistic, pvalue) = stats.ttest_ind_from_stats( \n",
    "               mean1=mean1, std1=modified_std1, nobs1=nobs1,   \n",
    "               mean2=mean2, std2=modified_std2, nobs2=nobs2 )\n",
    "    return statistic, pvalue"
   ]
  },
  {
   "cell_type": "code",
   "execution_count": 9,
   "metadata": {},
   "outputs": [
    {
     "name": "stdout",
     "output_type": "stream",
     "text": [
      "(-0.10716322425445124, 0.9149947172010775)\n",
      "(0.3039843932259692, 0.762125930464567)\n",
      "(0.3637239444011327, 0.7172629566578634)\n",
      "(-3.910185079637679, 0.0002255229534749461)\n",
      "(-3.6797238181061207, 0.0004808371270481522)\n",
      "(-16.134752771206383, 3.0863300441207467e-24)\n",
      "(-16.333126576218056, 1.6412078620908813e-24)\n",
      "(-14.24836878935568, 1.5965095568726735e-21)\n",
      "(-14.845483898771814, 2.1047655049375466e-22)\n",
      "(0.0, 1.0)\n"
     ]
    }
   ],
   "source": [
    "print(t_test(modTIP.SBPI, modTIP.SBPL))\n",
    "# print(t_test(modTIP.SBPI, modTIP.SBPM))\n",
    "# print(t_test(modTIP.SBPL, modTIP.SBPM))\n",
    "print(t_test(modTIP.DBPI, modTIP.DBPL))\n",
    "# print(t_test(modTIP.DBPI, modTIP.DBPM))\n",
    "# print(t_test(modTIP.DBPL, modTIP.DBPM))\n",
    "print(t_test(modTIP.BPMI, modTIP.BPML))\n",
    "# print(t_test(modTIP.BPMI, modTIP.BPMM))\n",
    "# print(t_test(modTIP.BPML, modTIP.BPMM))\n",
    "print(t_test(modTIP.SBPI, modTIP.LOP))\n",
    "print(t_test(modTIP.SBPL, modTIP.LOP))\n",
    "# print(t_test(modTIP.SBPM, modTIP.LOP))\n",
    "print(t_test(modTIP.DBPI, modTIP.LOP))\n",
    "print(t_test(modTIP.DBPL, modTIP.LOP))\n",
    "# print(t_test(modTIP.DBPM, modTIP.LOP))\n",
    "print(t_test(modTIP.BPMI, modTIP.LOP))\n",
    "print(t_test(modTIP.BPML, modTIP.LOP))\n",
    "# print(t_test(modTIP.BPMM, modTIP.LOP))\n",
    "print(t_test(modTIP.LOP, modTIP.LOP))"
   ]
  },
  {
   "cell_type": "code",
   "execution_count": 10,
   "metadata": {},
   "outputs": [
    {
     "name": "stdout",
     "output_type": "stream",
     "text": [
      "自變量---源數據: (33,) ；  訓練集: (26,) ；  測試集: (7,)\n",
      "因變量---源數據: (33,) ；  訓練集: (26,) ；  測試集: (7,)\n"
     ]
    },
    {
     "data": {
      "image/png": "[encoded data removed]",
      "text/plain": [
       "<Figure size 432x288 with 1 Axes>"
      ]
     },
     "metadata": {
      "needs_background": "light"
     },
     "output_type": "display_data"
    }
   ],
   "source": [
    "#拆分訓練集和測試集（train_test_split是存在與sklearn中的函數）\n",
    "X_train,X_test,Y_train,Y_test = train_test_split(modTIP.SBPI,modTIP.LOP,train_size=0.8,random_state=1)\n",
    "#train爲訓練數據,test爲測試數據,examDf爲源數據,train_size 規定了訓練數據的佔比\n",
    "print(\"自變量---源數據:\",modTIP.SBPI.shape, \"；  訓練集:\",X_train.shape, \"；  測試集:\",X_test.shape)\n",
    "print(\"因變量---源數據:\",modTIP.LOP.shape, \"；  訓練集:\",Y_train.shape, \"；  測試集:\",Y_test.shape)\n",
    "#散點圖\n",
    "plt.scatter(X_train, Y_train, color=\"darkgreen\", label=\"train data\")#訓練集爲深綠色點\n",
    "plt.scatter(X_test, Y_test, color=\"red\", label=\"test data\")#測試集爲紅色點\n",
    "#添加標籤\n",
    "plt.legend(loc=2)#圖標位於左上角，即第2象限，類似的，1爲右上角，3爲左下角，4爲右下角\n",
    "plt.xlabel(\"The SBPI\")#添加 X 軸名稱\n",
    "plt.ylabel(\"The LOP\")#添加 Y 軸名稱\n",
    "plt.show()#顯示散點圖"
   ]
  },
  {
   "cell_type": "code",
   "execution_count": 11,
   "metadata": {},
   "outputs": [
    {
     "name": "stdout",
     "output_type": "stream",
     "text": [
      "自變量---源數據: (33,) ；  訓練集: (26,) ；  測試集: (7,)\n",
      "因變量---源數據: (33,) ；  訓練集: (26,) ；  測試集: (7,)\n"
     ]
    },
    {
     "data": {
      "image/png": "[encoded data removed]",
      "text/plain": [
       "<Figure size 432x288 with 1 Axes>"
      ]
     },
     "metadata": {
      "needs_background": "light"
     },
     "output_type": "display_data"
    }
   ],
   "source": [
    "#拆分訓練集和測試集（train_test_split是存在與sklearn中的函數）\n",
    "X_train2,X_test2,Y_train2,Y_test2 = train_test_split(modTIP.SBPL,modTIP.LOP,train_size=0.8,random_state=1)\n",
    "#train爲訓練數據,test爲測試數據,examDf爲源數據,train_size 規定了訓練數據的佔比\n",
    "print(\"自變量---源數據:\",modTIP.SBPL.shape, \"；  訓練集:\",X_train2.shape, \"；  測試集:\",X_test2.shape)\n",
    "print(\"因變量---源數據:\",modTIP.LOP.shape, \"；  訓練集:\",Y_train2.shape, \"；  測試集:\",Y_test2.shape)\n",
    "#散點圖\n",
    "plt.scatter(X_train2, Y_train2, color=\"darkgreen\", label=\"train data\")#訓練集爲深綠色點\n",
    "plt.scatter(X_test2, Y_test2, color=\"red\", label=\"test data\")#測試集爲紅色點\n",
    "#添加標籤\n",
    "plt.legend(loc=2)#圖標位於左上角，即第2象限，類似的，1爲右上角，3爲左下角，4爲右下角\n",
    "plt.xlabel(\"The SBPL\")#添加 X 軸名稱\n",
    "plt.ylabel(\"The LOP\")#添加 Y 軸名稱\n",
    "plt.show()#顯示散點圖"
   ]
  },
  {
   "cell_type": "code",
   "execution_count": 12,
   "metadata": {},
   "outputs": [],
   "source": [
    "# #拆分訓練集和測試集（train_test_split是存在與sklearn中的函數）\n",
    "# X_train3,X_test3,Y_train3,Y_test3 = train_test_split(modTIP.SBPM,modTIP.LOP,train_size=0.8,random_state=1)\n",
    "# #train爲訓練數據,test爲測試數據,examDf爲源數據,train_size 規定了訓練數據的佔比\n",
    "# print(\"自變量---源數據:\",modTIP.SBPM.shape, \"；  訓練集:\",X_train3.shape, \"；  測試集:\",X_test3.shape)\n",
    "# print(\"因變量---源數據:\",modTIP.LOP.shape, \"；  訓練集:\",Y_train3.shape, \"；  測試集:\",Y_test3.shape)\n",
    "# #散點圖\n",
    "# plt.scatter(X_train3, Y_train3, color=\"darkgreen\", label=\"train data\")#訓練集爲深綠色點\n",
    "# plt.scatter(X_test3, Y_test3, color=\"red\", label=\"test data\")#測試集爲紅色點\n",
    "# #添加標籤\n",
    "# plt.legend(loc=2)#圖標位於左上角，即第2象限，類似的，1爲右上角，3爲左下角，4爲右下角\n",
    "# plt.xlabel(\"The SBPM\")#添加 X 軸名稱\n",
    "# plt.ylabel(\"The LOP\")#添加 Y 軸名稱\n",
    "# plt.show()#顯示散點圖"
   ]
  },
  {
   "cell_type": "code",
   "execution_count": 13,
   "metadata": {},
   "outputs": [],
   "source": [
    "# plt.scatter(modTIP.SBP1, modTIP.TIP, color=\"darkgreen\", label=\"分布\")"
   ]
  },
  {
   "cell_type": "code",
   "execution_count": 14,
   "metadata": {},
   "outputs": [],
   "source": [
    "# X_1 = np.array([1 for i in range(28)])\n",
    "# x_train = np.array(X_train)\n",
    "# x = np.zeros((28,2))\n",
    "# x[:,0] = X_1\n",
    "# x[:,1] = x_train\n",
    "# #線性迴歸訓練\n",
    "# model = LinearRegression()\n",
    "# model.fit(x,Y_train)#調用線性迴歸包\n",
    "# a  = model.intercept_#截距\n",
    "# b = model.coef_#迴歸係數\n",
    "# #訓練數據的預測值\n",
    "# y_train_pred = model.predict(x)\n",
    "# #繪製最佳擬合線：標籤用的是訓練數據的預測值y_train_pred\n",
    "# plt.plot(X_train, y_train_pred, color='blue', linewidth=2, label=\"best line\")\n",
    "# #測試數據散點圖\n",
    "# plt.scatter(X_train, Y_train, color='darkgreen', label=\"train data\")\n",
    "# plt.scatter(X_test, Y_test, color='red', label=\"test data\")\n",
    "# #添加圖標標籤\n",
    "# plt.legend(loc=2)#圖標位於左上角，即第2象限，類似的，1爲右上角，3爲左下角，4爲右下角\n",
    "# plt.xlabel(\"The SBP\")#添加 X 軸名稱\n",
    "# plt.ylabel(\"The TIP\")#添加 Y 軸名稱\n",
    "# plt.show()#顯示圖像\n",
    "# print(\"擬合參數:截距\",a,\",迴歸係數：\",b)\n",
    "# print(\"最佳擬合線: Y = \",round(a,2),\"+\",round(b[1],2),\"* X\")\n",
    "# #顯示線性方程，並限制參數的小數位爲兩位"
   ]
  },
  {
   "cell_type": "code",
   "execution_count": 15,
   "metadata": {},
   "outputs": [],
   "source": [
    "q = np.array(X_train)#q原先shape是(28,0)\n",
    "np.shape(q)\n",
    "q = np.reshape(q, (26,1))#reshape換成(28,1)"
   ]
  },
  {
   "cell_type": "code",
   "execution_count": 16,
   "metadata": {},
   "outputs": [
    {
     "data": {
      "image/png": "[encoded data removed]",
      "text/plain": [
       "<Figure size 432x288 with 1 Axes>"
      ]
     },
     "metadata": {
      "needs_background": "light"
     },
     "output_type": "display_data"
    },
    {
     "name": "stdout",
     "output_type": "stream",
     "text": [
      "擬合參數:截距 15.430039768767216 ,迴歸係數： [0.97929769]\n",
      "最佳擬合線: Y =  15.43 + 0.98 * X\n"
     ]
    }
   ],
   "source": [
    "model = LinearRegression()\n",
    "model.fit(q,Y_train)#調用線性迴歸包\n",
    "# model.fit(X_train,Y_train)\n",
    "a  = model.intercept_#截距\n",
    "b = model.coef_#迴歸係數\n",
    "#訓練數據的預測值\n",
    "y_train_pred = model.predict(q)\n",
    "#繪製最佳擬合線：標籤用的是訓練數據的預測值y_train_pred\n",
    "plt.plot(X_train, y_train_pred, color='blue', linewidth=2, label=\"best line\")\n",
    "#測試數據散點圖\n",
    "plt.scatter(X_train, Y_train, color='darkgreen', label=\"train data\")\n",
    "plt.scatter(X_test, Y_test, color='red', label=\"test data\")\n",
    "#添加圖標標籤\n",
    "plt.legend(loc=2)#圖標位於左上角，即第2象限，類似的，1爲右上角，3爲左下角，4爲右下角\n",
    "plt.xlabel(\"The SBPI\")#添加 X 軸名稱\n",
    "plt.ylabel(\"The LOP\")#添加 Y 軸名稱\n",
    "plt.show()#顯示圖像\n",
    "print(\"擬合參數:截距\",a,\",迴歸係數：\",b)\n",
    "print(\"最佳擬合線: Y = \",round(a,2),\"+\",round(b[0],2),\"* X\")\n",
    "#顯示線性方程，並限制參數的小數位爲兩位"
   ]
  },
  {
   "cell_type": "code",
   "execution_count": 17,
   "metadata": {},
   "outputs": [],
   "source": [
    "q2 = np.array(X_train2)#q原先shape是(28,0)\n",
    "np.shape(q2)\n",
    "q2 = np.reshape(q2, (26,1))#reshape換成(28,1)"
   ]
  },
  {
   "cell_type": "code",
   "execution_count": 18,
   "metadata": {},
   "outputs": [
    {
     "data": {
      "image/png": "[encoded data removed]",
      "text/plain": [
       "<Figure size 432x288 with 1 Axes>"
      ]
     },
     "metadata": {
      "needs_background": "light"
     },
     "output_type": "display_data"
    },
    {
     "name": "stdout",
     "output_type": "stream",
     "text": [
      "擬合參數:截距 57.174647909218095 ,迴歸係數： [0.63297995]\n",
      "最佳擬合線: Y =  57.17 + 0.63 * X\n"
     ]
    }
   ],
   "source": [
    "model2 = LinearRegression()\n",
    "model2.fit(q2,Y_train2)#調用線性迴歸包\n",
    "# model.fit(X_train,Y_train)\n",
    "a2  = model2.intercept_#截距\n",
    "b2 = model2.coef_#迴歸係數\n",
    "#訓練數據的預測值\n",
    "y_train_pred2 = model2.predict(q2)\n",
    "#繪製最佳擬合線：標籤用的是訓練數據的預測值y_train_pred\n",
    "plt.plot(X_train2, y_train_pred2, color='blue', linewidth=2, label=\"best line\")\n",
    "#測試數據散點圖\n",
    "plt.scatter(X_train2, Y_train2, color='darkgreen', label=\"train data\")\n",
    "plt.scatter(X_test2, Y_test2, color='red', label=\"test data\")\n",
    "#添加圖標標籤\n",
    "plt.legend(loc=2)#圖標位於左上角，即第2象限，類似的，1爲右上角，3爲左下角，4爲右下角\n",
    "plt.xlabel(\"The SBPL\")#添加 X 軸名稱\n",
    "plt.ylabel(\"The LOP\")#添加 Y 軸名稱\n",
    "plt.show()#顯示圖像\n",
    "print(\"擬合參數:截距\",a2,\",迴歸係數：\",b2)\n",
    "print(\"最佳擬合線: Y = \",round(a2,2),\"+\",round(b2[0],2),\"* X\")\n",
    "#顯示線性方程，並限制參數的小數位爲兩位"
   ]
  },
  {
   "cell_type": "code",
   "execution_count": 19,
   "metadata": {},
   "outputs": [],
   "source": [
    "# q3 = np.array(X_train3)#q原先shape是(28,0)\n",
    "# np.shape(q3)\n",
    "# q3 = np.reshape(q3, (28,1))#reshape換成(28,1)"
   ]
  },
  {
   "cell_type": "code",
   "execution_count": 20,
   "metadata": {},
   "outputs": [],
   "source": [
    "# model3 = LinearRegression()\n",
    "# model3.fit(q3,Y_train3)#調用線性迴歸包\n",
    "# # model.fit(X_train,Y_train)\n",
    "# a3  = model3.intercept_#截距\n",
    "# b3 = model3.coef_#迴歸係數\n",
    "# #訓練數據的預測值\n",
    "# y_train_pred3 = model3.predict(q3)\n",
    "# #繪製最佳擬合線：標籤用的是訓練數據的預測值y_train_pred\n",
    "# plt.plot(X_train3, y_train_pred3, color='blue', linewidth=2, label=\"best line\")\n",
    "# #測試數據散點圖\n",
    "# plt.scatter(X_train3, Y_train3, color='darkgreen', label=\"train data\")\n",
    "# plt.scatter(X_test3, Y_test3, color='red', label=\"test data\")\n",
    "# #添加圖標標籤\n",
    "# plt.legend(loc=2)#圖標位於左上角，即第2象限，類似的，1爲右上角，3爲左下角，4爲右下角\n",
    "# plt.xlabel(\"The SBPM\")#添加 X 軸名稱\n",
    "# plt.ylabel(\"The LOP\")#添加 Y 軸名稱\n",
    "# plt.show()#顯示圖像\n",
    "# print(\"擬合參數:截距\",a3,\",迴歸係數：\",b3)\n",
    "# print(\"最佳擬合線: Y = \",round(a3,2),\"+\",round(b3[0],2),\"* X\")\n",
    "# #顯示線性方程，並限制參數的小數位爲兩位"
   ]
  }
 ],
 "metadata": {
  "kernelspec": {
   "display_name": "Python 3",
   "language": "python",
   "name": "python3"
  },
  "language_info": {
   "codemirror_mode": {
    "name": "ipython",
    "version": 3
   },
   "file_extension": ".py",
   "mimetype": "text/x-python",
   "name": "python",
   "nbconvert_exporter": "python",
   "pygments_lexer": "ipython3",
   "version": "3.7.7"
  }
 },
 "nbformat": 4,
 "nbformat_minor": 4
}
